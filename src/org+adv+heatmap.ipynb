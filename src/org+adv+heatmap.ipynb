{
 "cells": [
  {
   "cell_type": "code",
   "execution_count": 1,
   "metadata": {},
   "outputs": [],
   "source": [
    "import matplotlib.pyplot as plt\n",
    "from PIL import Image\n",
    "import os\n",
    "import numpy as np"
   ]
  },
  {
   "cell_type": "code",
   "execution_count": 2,
   "metadata": {},
   "outputs": [],
   "source": [
    "dirname_grad = \"../org+adv/grad/4\"\n",
    "dirname_org_T = \"../org+adv/org_T/\"\n",
    "dirname_adv_T = \"../org+adv/adv_T/\""
   ]
  },
  {
   "cell_type": "code",
   "execution_count": 3,
   "metadata": {},
   "outputs": [
    {
     "ename": "FileNotFoundError",
     "evalue": "[Errno 2] No such file or directory: '../org+adv/org_T/4'",
     "output_type": "error",
     "traceback": [
      "\u001b[0;31m---------------------------------------------------------------------------\u001b[0m",
      "\u001b[0;31mFileNotFoundError\u001b[0m                         Traceback (most recent call last)",
      "\u001b[1;32m/workspace/src/org+adv+heatmap.ipynb Cell 3'\u001b[0m in \u001b[0;36m<cell line: 1>\u001b[0;34m()\u001b[0m\n\u001b[0;32m----> <a href='vscode-notebook-cell://attached-container%2B7b22636f6e7461696e65724e616d65223a222f6d795f646f636b6572227d/workspace/src/org%2Badv%2Bheatmap.ipynb#ch0000002vscode-remote?line=0'>1</a>\u001b[0m \u001b[39mfor\u001b[39;00m i \u001b[39min\u001b[39;00m \u001b[39mrange\u001b[39m(\u001b[39m1\u001b[39m, \u001b[39msum\u001b[39m(os\u001b[39m.\u001b[39mpath\u001b[39m.\u001b[39misfile(os\u001b[39m.\u001b[39mpath\u001b[39m.\u001b[39mjoin(dirname_org_T, name)) \u001b[39mfor\u001b[39;00m name \u001b[39min\u001b[39;00m os\u001b[39m.\u001b[39;49mlistdir(dirname_org_T)) \u001b[39m+\u001b[39m \u001b[39m1\u001b[39m):\n\u001b[1;32m      <a href='vscode-notebook-cell://attached-container%2B7b22636f6e7461696e65724e616d65223a222f6d795f646f636b6572227d/workspace/src/org%2Badv%2Bheatmap.ipynb#ch0000002vscode-remote?line=1'>2</a>\u001b[0m     cnt \u001b[39m=\u001b[39m \u001b[39m0\u001b[39m\n\u001b[1;32m      <a href='vscode-notebook-cell://attached-container%2B7b22636f6e7461696e65724e616d65223a222f6d795f646f636b6572227d/workspace/src/org%2Badv%2Bheatmap.ipynb#ch0000002vscode-remote?line=2'>3</a>\u001b[0m     \u001b[39mfor\u001b[39;00m j \u001b[39min\u001b[39;00m [dirname_org_T, dirname_adv_T, dirname_adv_F2, dirname_adv_F6, dirname_adv_F7, dirname_adv_F8, dirname_adv_F9, dirname_grad]:\n",
      "\u001b[0;31mFileNotFoundError\u001b[0m: [Errno 2] No such file or directory: '../org+adv/org_T/4'"
     ]
    }
   ],
   "source": [
    "for i in range(1, sum(os.path.isfile(os.path.join(dirname_org_T, name)) for name in os.listdir(dirname_org_T)) + 1):\n",
    "    cnt = 0\n",
    "    for j in [dirname_org_T, dirname_adv_T, dirname_adv_F2, dirname_adv_F6, dirname_adv_F7, dirname_adv_F8, dirname_adv_F9, dirname_grad]:\n",
    "        if os.path.isfile(j + \"/{}.png\".format(i)) == False:\n",
    "            continue\n",
    "        cnt += 1\n",
    "        img = Image.open(j + \"/{}.png\".format(i))\n",
    "        plt.subplot(1, 3, cnt)\n",
    "        plt.xticks([], [])\n",
    "        plt.yticks([], [])\n",
    "        if j == dirname_org_T or j == dirname_adv_T:\n",
    "          plt.title(\"4\", color=\"white\")\n",
    "          if cnt == 2:\n",
    "            x = \"4→4\"\n",
    "        elif j == dirname_adv_F2:\n",
    "            x = \"4→2\"\n",
    "            plt.title(\"2\", color=\"white\")\n",
    "        elif j == dirname_adv_F6:\n",
    "            x = \"4→6\"\n",
    "            plt.title(\"6\", color=\"white\")\n",
    "        elif j == dirname_adv_F7:\n",
    "            x = \"4→7\"\n",
    "            plt.title(\"7\", color=\"white\")\n",
    "        elif j == dirname_adv_F8:\n",
    "            x = \"4→8\"\n",
    "            plt.title(\"8\", color=\"white\")\n",
    "        elif j == dirname_adv_F9:\n",
    "            x = \"4→9\"\n",
    "            plt.title(\"9\", color=\"white\")\n",
    "        elif j == dirname_grad:\n",
    "            print(np.array(img))\n",
    "            plt.title(\"heatmap\", color=\"white\")\n",
    "        plt.imshow(img)\n",
    "    plt.savefig(\"../org+adv/save/4/{}/{}.png\".format(x, i))"
   ]
  }
 ],
 "metadata": {
  "kernelspec": {
   "display_name": "Python 3.9.5 64-bit",
   "language": "python",
   "name": "python3"
  },
  "language_info": {
   "codemirror_mode": {
    "name": "ipython",
    "version": 3
   },
   "file_extension": ".py",
   "mimetype": "text/x-python",
   "name": "python",
   "nbconvert_exporter": "python",
   "pygments_lexer": "ipython3",
   "version": "3.9.5"
  },
  "orig_nbformat": 4,
  "vscode": {
   "interpreter": {
    "hash": "f9f85f796d01129d0dd105a088854619f454435301f6ffec2fea96ecbd9be4ac"
   }
  }
 },
 "nbformat": 4,
 "nbformat_minor": 2
}
