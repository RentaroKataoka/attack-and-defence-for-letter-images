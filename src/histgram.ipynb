{
 "cells": [
  {
   "cell_type": "code",
   "execution_count": 1,
   "metadata": {},
   "outputs": [
    {
     "name": "stderr",
     "output_type": "stream",
     "text": [
      "/home/hoge/.local/lib/python3.9/site-packages/tqdm/auto.py:22: TqdmWarning: IProgress not found. Please update jupyter and ipywidgets. See https://ipywidgets.readthedocs.io/en/stable/user_install.html\n",
      "  from .autonotebook import tqdm as notebook_tqdm\n"
     ]
    }
   ],
   "source": [
    "from __future__ import print_function\n",
    "import matplotlib.pyplot as plt\n",
    "import numpy as np\n",
    "import os\n",
    "import torch\n",
    "import torch.nn as nn\n",
    "import torch.nn.functional as F\n",
    "import torch.optim as optim\n",
    "from torchvision import datasets, transforms\n",
    "import numpy as np\n",
    "import matplotlib.pyplot as plt\n",
    "import heapq\n",
    "import itertools\n",
    "import copy\n",
    "import os\n",
    "import seaborn as sns\n",
    "import pandas as pd\n",
    "from PIL import Image\n",
    "import time\n",
    "from tqdm import tqdm\n",
    "import random\n",
    "from torch.utils.data import DataLoader\n",
    "from torchvision.datasets import ImageFolder\n",
    "from torch.autograd import Variable\n",
    "from matplotlib.backends.backend_pdf import PdfPages"
   ]
  },
  {
   "cell_type": "code",
   "execution_count": 2,
   "metadata": {},
   "outputs": [],
   "source": [
    "def torch_fix_seed(seed=42):\n",
    "    # Python random\n",
    "    random.seed(seed)\n",
    "    # Numpy\n",
    "    np.random.seed(seed)\n",
    "    # Pytorch\n",
    "    torch.manual_seed(seed)\n",
    "    torch.cuda.manual_seed(seed)\n",
    "    torch.backends.cudnn.deterministic = True\n",
    "    torch.use_deterministic_algorithms = True\n",
    "torch_fix_seed()"
   ]
  },
  {
   "cell_type": "code",
   "execution_count": 3,
   "metadata": {},
   "outputs": [],
   "source": [
    "pretrained_model = \"googlefonts.pth\" #事前学習済みMNISTモデル(重みパラメータ)\n",
    "use_cuda = True"
   ]
  },
  {
   "cell_type": "code",
   "execution_count": 4,
   "metadata": {},
   "outputs": [
    {
     "name": "stdout",
     "output_type": "stream",
     "text": [
      "CUDA Available:  True\n",
      "Net(\n",
      "  (conv1): Conv2d(1, 32, kernel_size=(3, 3), stride=(1, 1))\n",
      "  (conv2): Conv2d(32, 64, kernel_size=(3, 3), stride=(1, 1))\n",
      "  (dropout1): Dropout(p=0.25, inplace=False)\n",
      "  (dropout2): Dropout(p=0.5, inplace=False)\n",
      "  (fc1): Linear(in_features=57600, out_features=128, bias=True)\n",
      "  (fc2): Linear(in_features=128, out_features=26, bias=True)\n",
      ")\n"
     ]
    },
    {
     "data": {
      "text/plain": [
       "Net(\n",
       "  (conv1): Conv2d(1, 32, kernel_size=(3, 3), stride=(1, 1))\n",
       "  (conv2): Conv2d(32, 64, kernel_size=(3, 3), stride=(1, 1))\n",
       "  (dropout1): Dropout(p=0.25, inplace=False)\n",
       "  (dropout2): Dropout(p=0.5, inplace=False)\n",
       "  (fc1): Linear(in_features=57600, out_features=128, bias=True)\n",
       "  (fc2): Linear(in_features=128, out_features=26, bias=True)\n",
       ")"
      ]
     },
     "execution_count": 4,
     "metadata": {},
     "output_type": "execute_result"
    }
   ],
   "source": [
    "class Net(nn.Module):\n",
    "    def __init__(self):\n",
    "        super(Net, self).__init__()\n",
    "        self.conv1 = nn.Conv2d(1, 32, 3, 1)\n",
    "        self.conv2 = nn.Conv2d(32, 64, 3, 1)\n",
    "        self.dropout1 = nn.Dropout(0.25)\n",
    "        self.dropout2 = nn.Dropout(0.5)\n",
    "        self.fc1 = nn.Linear(57600, 128)\n",
    "        self.fc2 = nn.Linear(128, 26)\n",
    "\n",
    "    def forward(self, x):\n",
    "        x = self.conv1(x)\n",
    "        x = F.relu(x)\n",
    "        x = self.conv2(x)\n",
    "        x = F.relu(x)\n",
    "        x = F.max_pool2d(x, 2)\n",
    "        x = self.dropout1(x)\n",
    "        x = torch.flatten(x, 1)\n",
    "        x = self.fc1(x)\n",
    "        x = F.relu(x)\n",
    "        x = self.dropout2(x)\n",
    "        x = self.fc2(x)\n",
    "        output = F.log_softmax(x, dim=1)\n",
    "        return output\n",
    "\n",
    "# MNISTのTest datasetと dataloaderの定義\n",
    "# test_loader = torch.utils.data.DataLoader(\n",
    "#     datasets.MNIST('../data', train=False, download=True, transform=transforms.Compose([\n",
    "#             transforms.ToTensor(),\n",
    "#             transforms.Normalize((0.5,), (0.5,))\n",
    "#             ])), \n",
    "#         batch_size=1, shuffle=False)\n",
    "\n",
    "# 使うデバイス（CPUかGPUか）の定義\n",
    "print(\"CUDA Available: \",torch.cuda.is_available())\n",
    "device = torch.device(\"cuda\" if (use_cuda and torch.cuda.is_available()) else \"cpu\")\n",
    "\n",
    "# ネットワークの初期化\n",
    "model = Net().to(device)\n",
    "print(model)\n",
    "# 訓練済みモデルのロード\n",
    "model.load_state_dict(torch.load(pretrained_model, map_location='cpu'))\n",
    "\n",
    "\n",
    "# モデルを評価モードに設定。本チュートリアルの例では、これはドロップアウト層等を評価モードにするのに必要\n",
    "model.eval()"
   ]
  },
  {
   "cell_type": "code",
   "execution_count": 5,
   "metadata": {},
   "outputs": [],
   "source": [
    "# sum_resistance1 = 0\n",
    "# sum_resistance2 = 0\n",
    "# for i in range(26):\n",
    "#     count = 0\n",
    "#     l1 = os.listdir(\"../normalPGD_googlefonts/resistance/\" + chr(i + 65))\n",
    "#     l2 = os.listdir(\"../normalPGD_GAN+reg_25_g1_r2/resistance/\" + chr(i + 65))\n",
    "#     count_list1 = []\n",
    "#     count_list2 = []\n",
    "#     for j in l1:\n",
    "#         for k in range(sum(os.path.isfile(os.path.join(\"../normalPGD_googlefonts/resistance/\" + chr(i + 65) + \"/\" + j, name)) for name in os.listdir(\"../normalPGD_googlefonts/resistance/\" + chr(i + 65) + \"/\" + j))):\n",
    "#             count_list1.append(int(j))\n",
    "#         #     count += 1\n",
    "#         #     if count == 500:\n",
    "#         #         break\n",
    "#         # if count == 500:\n",
    "#         #     break\n",
    "#     count = 0\n",
    "#     for j in l2:\n",
    "#         for k in range(sum(os.path.isfile(os.path.join(\"../normalPGD_GAN+reg_25_g1_r2/resistance/\" + chr(i + 65) + \"/\" + j, name)) for name in os.listdir(\"../normalPGD_GAN+reg_25_g1_r2/resistance/\" + chr(i + 65) + \"/\" + j))):\n",
    "#             count_list2.append(int(j))\n",
    "#         #     count += 1\n",
    "#         #     if count == 500:\n",
    "#         #         break\n",
    "#         # if count == 500:\n",
    "#         #     break\n",
    "#     count_ndarray1 = np.array(count_list1)\n",
    "#     print(np.mean(count_ndarray1))\n",
    "#     sum_resistance1 += np.mean(count_ndarray1)\n",
    "#     count_ndarray2 = np.array(count_list2)\n",
    "#     print(np.mean(count_ndarray2))\n",
    "#     sum_resistance2 += np.mean(count_ndarray2)\n",
    "#     # for a in range(1000, 0, -1):\n",
    "#     #     if np.count_nonzero(count_ndarray >= a) >= 200:\n",
    "#     #         print(chr(i + 65) + \":{}:{}\".format(a, np.count_nonzero(count_ndarray >= a)))\n",
    "#     #         break\n",
    "#     plt.hist(count_ndarray1, range=(0, 30), bins = 30, alpha = 0.5)\n",
    "#     # plt.hist(count_ndarray2, range=(0, 30), bins = 30, alpha = 0.5)\n",
    "#     plt.xlabel(\"step\")\n",
    "#     plt.ylabel(\"samples\")\n",
    "#     plt.title(chr(i + 65))\n",
    "#     # plt.savefig(\"../normalPGD_GAN+reg_25_g1_r2/resistance/\" + chr(i + 65) + \"_hist.png\", facecolor=\"white\")\n",
    "#     plt.show()\n",
    "# print(sum_resistance1 / 26)\n",
    "# print(sum_resistance2 / 26)"
   ]
  },
  {
   "cell_type": "code",
   "execution_count": 6,
   "metadata": {},
   "outputs": [
    {
     "name": "stderr",
     "output_type": "stream",
     "text": [
      "100%|██████████| 30862/30862 [01:22<00:00, 374.79it/s]\n"
     ]
    }
   ],
   "source": [
    "class ImageTransform():\n",
    "    def __init__(self, mean, std):\n",
    "        self.data_transform = transforms.Compose([\n",
    "        transforms.Grayscale(),\n",
    "        transforms.ToTensor(),\n",
    "        transforms.Resize((64, 64)),\n",
    "        transforms.Normalize(mean, std)\n",
    "        ])\n",
    "\n",
    "    def __call__(self, img):\n",
    "        return self.data_transform(img)\n",
    "mean = (0.5,)\n",
    "std = (0.5,)\n",
    "images_test = ImageFolder( \"../GoogleFonts/test\", transform = ImageTransform(mean, std))\n",
    "batch_size = 1\n",
    "test_loader = DataLoader(images_test, batch_size = batch_size, shuffle = False, drop_last=True)\n",
    "# 精度カウンター\n",
    "correct_list = [0] * 26\n",
    "success = 0\n",
    "# count = 0\n",
    "count = [0] * 26\n",
    "\n",
    "adv_examples = []\n",
    "# i=0\n",
    "\n",
    "# テスト用データセット内の全てのサンプルをループします\n",
    "for data, target in tqdm(test_loader, total = len(test_loader)):\n",
    "    # i+=1\n",
    "    # if i==150:\n",
    "    #     break\n",
    "    # データとラベルをデバイス（CPUもしくはGPU）に送信します\n",
    "    data, target = data.to(device), target.type(torch.LongTensor).to(device)\n",
    "    # テンソルの requires_grad 属性を設定します。攻撃者にとっては重要な設定です。\n",
    "\n",
    "    data.requires_grad = True\n",
    "\n",
    "    # データをモデルに順伝播させます\n",
    "    output = model(data)\n",
    "    init_pred = output.max(1, keepdim=True)[1] # 最大の確率のインデックスを取得します。\n",
    "\n",
    "    # 最初から予測が間違っている場合、攻撃する必要がないため次のイテレーションに進みます。\n",
    "    \n",
    "    count[target.item()] += 1\n",
    "    if init_pred.item() == target.item():\n",
    "        correct_list[target.item()] += 1\n",
    "\n",
    "result = []\n",
    "for i in range(26):\n",
    "    result.append(correct_list[i]/count[i] * 100)"
   ]
  },
  {
   "cell_type": "code",
   "execution_count": 7,
   "metadata": {},
   "outputs": [
    {
     "name": "stdout",
     "output_type": "stream",
     "text": [
      "[94.52401010951979, 94.52401010951979, 96.29317607413648, 95.87194608256108, 96.04043807919123, 97.21988205560235, 96.29317607413648, 96.46166807076663, 93.42881213142375, 93.34456613310867, 95.61920808761583, 96.04043807919123, 95.45071609098568, 95.11373209772536, 96.96714406065712, 96.88289806234204, 95.02948609941028, 95.19797809604043, 97.21988205560235, 96.71440606571188, 96.04043807919123, 94.60825610783488, 96.54591406908172, 97.0513900589722, 94.52401010951979, 96.6301600673968]\n"
     ]
    }
   ],
   "source": [
    "print(result)"
   ]
  },
  {
   "cell_type": "code",
   "execution_count": 35,
   "metadata": {},
   "outputs": [
    {
     "data": {
      "image/png": "[encoded data removed]",
      "text/plain": [
       "<Figure size 648x288 with 2 Axes>"
      ]
     },
     "metadata": {
      "needs_background": "light"
     },
     "output_type": "display_data"
    }
   ],
   "source": [
    "plt.rcParams[\"font.size\"] = 12\n",
    "all_data = []\n",
    "for i in range(26):\n",
    "    l = os.listdir(\"../normalPGD_googlefonts/resistance/\" + chr(i + 65))\n",
    "    count_list = []\n",
    "    for j in l:\n",
    "        for k in range(sum(os.path.isfile(os.path.join(\"../normalPGD_googlefonts/resistance/\" + chr(i + 65) + \"/\" + j, name)) for name in os.listdir(\"../normalPGD_googlefonts/resistance/\" + chr(i + 65) + \"/\" + j))):\n",
    "            count_list.append(int(j))\n",
    "    count_ndarray = np.array(count_list)\n",
    "    all_data.append(count_ndarray)\n",
    "\n",
    "labels = [chr(i + 65) for i in range(26)]\n",
    "fig, ax = plt.subplots(figsize=(9, 4))\n",
    "ax2 = ax.twinx()\n",
    "showmedians = ax.violinplot(all_data, showmedians=True)\n",
    "showmedians['cmedians'].set_color('C1')\n",
    "ax2.plot([i + 1 for i in range(26)], result, color=\"red\")\n",
    "\n",
    "ax.set_xticks(np.arange(1, len(labels) + 1), labels=labels)\n",
    "ax.set_xlabel('letter class')\n",
    "ax.set_ylabel('defensibility k')\n",
    "# plt.tick_params(labelsize=25)\n",
    "ax.grid(axis=\"y\")\n",
    "ax.set_ylim(0, 35)\n",
    "# ax.legend(['Defensibility'], loc='center right')\n",
    "\n",
    "ax2.set_ylabel('accuracy')\n",
    "ax2.set_ylim(91, 98)\n",
    "ax2.legend([\"accuracy\"], loc=\"lower right\")\n",
    "\n",
    "# plt.savefig(\"violin.png\", facecolor=\"white\", bbox_inches='tight', pad_inches=0.1)\n",
    "plt.show()\n",
    "pp = PdfPages('violin.pdf')\n",
    "\n",
    "# save figure\n",
    "pp.savefig(fig, bbox_inches='tight', pad_inches=0)\n",
    "\n",
    "# close file\n",
    "pp.close()"
   ]
  }
 ],
 "metadata": {
  "kernelspec": {
   "display_name": "Python 3.9.5 64-bit",
   "language": "python",
   "name": "python3"
  },
  "language_info": {
   "codemirror_mode": {
    "name": "ipython",
    "version": 3
   },
   "file_extension": ".py",
   "mimetype": "text/x-python",
   "name": "python",
   "nbconvert_exporter": "python",
   "pygments_lexer": "ipython3",
   "version": "3.9.5"
  },
  "orig_nbformat": 4,
  "vscode": {
   "interpreter": {
    "hash": "f9f85f796d01129d0dd105a088854619f454435301f6ffec2fea96ecbd9be4ac"
   }
  }
 },
 "nbformat": 4,
 "nbformat_minor": 2
}
